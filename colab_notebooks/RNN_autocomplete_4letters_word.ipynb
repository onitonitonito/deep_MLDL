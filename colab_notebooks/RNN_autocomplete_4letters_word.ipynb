{
 "cells": [
  {
   "cell_type": "code",
   "execution_count": 1,
   "metadata": {},
   "outputs": [
    {
     "name": "stdout",
     "output_type": "stream",
     "text": [
      "\n",
      "# 자동완성 추천 RNN 학습하기\n",
      "#-----------------------------------\n",
      "# 자연어 처리나 음성처리 분야에 많이 사용되는 RNN의 기본적인 사용법을 익혀 봄.\n",
      "# 4글자를 가진 단어를 학습시켜, 3글자만 주어지면, 나머지 1글자는 추천하여 단어를\n",
      "# 완성하는 프로그램.\n",
      "#\n",
      "#\n"
     ]
    }
   ],
   "source": [
    "\"\"\"\n",
    "# 자동완성 추천 RNN 학습하기\n",
    "#-----------------------------------\n",
    "# 자연어 처리나 음성처리 분야에 많이 사용되는 RNN의 기본적인 사용법을 익혀 봄.\n",
    "# 4글자를 가진 단어를 학습시켜, 3글자만 주어지면, 나머지 1글자는 추천하여 단어를\n",
    "# 완성하는 프로그램.\n",
    "#\n",
    "#\"\"\"\n",
    "print(__doc__)"
   ]
  },
  {
   "cell_type": "code",
   "execution_count": 2,
   "metadata": {},
   "outputs": [
    {
     "name": "stderr",
     "output_type": "stream",
     "text": [
      "C:\\Anaconda3\\lib\\site-packages\\h5py\\__init__.py:36: FutureWarning: Conversion of the second argument of issubdtype from `float` to `np.floating` is deprecated. In future, it will be treated as `np.float64 == np.dtype(float).type`.\n",
      "  from ._conv import register_converters as _register_converters\n"
     ]
    }
   ],
   "source": [
    "import numpy as np\n",
    "import tensorflow as tf\n",
    "import matplotlib.pyplot as plt"
   ]
  },
  {
   "cell_type": "code",
   "execution_count": 3,
   "metadata": {},
   "outputs": [
    {
     "data": {
      "text/plain": [
       "26"
      ]
     },
     "execution_count": 3,
     "metadata": {},
     "output_type": "execute_result"
    }
   ],
   "source": [
    "num_dic = { cha : i for i, cha in enumerate('abcdefghijklmnopqrstuvwxyz')}\n",
    "chars = list(num_dic.keys())\n",
    "dic_len = len(num_dic)          # 26 개의 알파벳 글자"
   ]
  },
  {
   "cell_type": "code",
   "execution_count": 4,
   "metadata": {},
   "outputs": [
    {
     "data": {
      "text/plain": [
       "40"
      ]
     },
     "execution_count": 4,
     "metadata": {},
     "output_type": "execute_result"
    }
   ],
   "source": [
    "seq_data = [\n",
    "        'word', 'wood', 'deep', 'dive', 'cold', \n",
    "        'cool', 'load', 'love', 'kiss', 'kind',\n",
    "        'this', 'that', 'then', 'toss', 'tang',\n",
    "        'many', 'mass', 'moss', 'mole', 'most',\n",
    "        'tail', 'toll', 'test', 'tone', 'tear',\n",
    "        'boss', 'bear', 'boot', 'bone', 'bits',\n",
    "        'beer', 'cost', 'dust', 'doll', 'dead',\n",
    "        'pear', 'pist', 'post', 'poll', 'pill'\n",
    "    ]\n",
    "\n",
    "len(seq_data)                  # 10개의 학습갯수"
   ]
  },
  {
   "cell_type": "code",
   "execution_count": 17,
   "metadata": {},
   "outputs": [],
   "source": [
    "n_step = 3                     # 타입스텝: [1 2 3] => 3 ... 시퀀스의 갯수.\n",
    "n_input = n_class = dic_len    # 알파벳 26글자\n",
    "n_hidden = 128                 # 히든 레이어의 갯수 = 128개"
   ]
  },
  {
   "cell_type": "code",
   "execution_count": 6,
   "metadata": {},
   "outputs": [],
   "source": [
    "def make_batch(seq_data):\n",
    "    input_batch = []\n",
    "    target_batch = []\n",
    "\n",
    "    for seq in seq_data:\n",
    "        input = [num_dic[n] for n in seq[:-1]]\n",
    "        target = num_dic[seq[-1]]\n",
    "        input_batch.append(np.eye(dic_len)[input])\n",
    "        target_batch.append(target)\n",
    "\n",
    "    return input_batch, target_batch"
   ]
  },
  {
   "cell_type": "code",
   "execution_count": 7,
   "metadata": {},
   "outputs": [
    {
     "data": {
      "text/plain": [
       "list"
      ]
     },
     "execution_count": 7,
     "metadata": {},
     "output_type": "execute_result"
    }
   ],
   "source": [
    "input_batch, target_batch = make_batch(seq_data)\n",
    "\n",
    "input_batch         # [3,26] ... 2차원 리스트\n",
    "type(input_batch)   # list"
   ]
  },
  {
   "cell_type": "code",
   "execution_count": 8,
   "metadata": {},
   "outputs": [],
   "source": [
    "\"\"\" Y = WX + b [None] = [None, 3, 26].[128, 26] + [26] \"\"\"\n",
    "X = tf.placeholder(tf.float32, [None, n_step, n_input])\n",
    "Y = tf.placeholder(tf.int32, [None])\n",
    "\n",
    "W = tf.Variable(tf.random_normal([n_hidden, n_class]))  # [128, 26]\n",
    "b = tf.Variable(tf.random_normal([n_class]))            # [128]"
   ]
  },
  {
   "cell_type": "code",
   "execution_count": 9,
   "metadata": {},
   "outputs": [],
   "source": [
    "# RNN 셀을 생성합니다.\n",
    "# 과적합 방지를 위한 Dropout 기법을 사용합니다.\n",
    "# 여러개의 셀을 조합해서 사용하기 위해 셀을 추가로 생성합니다.\n",
    "# 여러개의 셀을 조합한 RNN 셀을 생성합니다.\n",
    "\n",
    "# tf.nn.dynamic_rnn 함수를 이용해 순환 신경망을 만듭니다. time_major=True\n",
    "# 최종 결과는 one-hot 인코딩 형식으로 만듭니다\n",
    "\n",
    "cell1 = tf.nn.rnn_cell.BasicLSTMCell(n_hidden)\n",
    "cell1 = tf.nn.rnn_cell.DropoutWrapper(cell1, output_keep_prob=0.5)\n",
    "cell2 = tf.nn.rnn_cell.BasicLSTMCell(n_hidden)\n",
    "multi_cell = tf.nn.rnn_cell.MultiRNNCell([cell1, cell2])\n",
    "outputs, states = tf.nn.dynamic_rnn(multi_cell, X, dtype=tf.float32)\n",
    "\n",
    "outputs = tf.transpose(outputs, [1, 0, 2])\n",
    "outputs = outputs[-1]\n",
    "model = tf.matmul(outputs, W) + b\n",
    "\n",
    "cost = tf.reduce_mean(\n",
    "            tf.nn.sparse_softmax_cross_entropy_with_logits(\n",
    "                logits=model, labels=Y))\n",
    "\n",
    "optimizer = tf.train.AdamOptimizer(learning_rate).minimize(cost)"
   ]
  },
  {
   "cell_type": "code",
   "execution_count": 43,
   "metadata": {},
   "outputs": [
    {
     "name": "stdout",
     "output_type": "stream",
     "text": [
      "최적화 완료!, cost = 5.05 %\n"
     ]
    },
    {
     "data": {
      "image/png": "[encoded data removed]",
      "text/plain": [
       "<Figure size 432x288 with 1 Axes>"
      ]
     },
     "metadata": {},
     "output_type": "display_data"
    }
   ],
   "source": [
    "#########\n",
    "# 신경망 모델 학습\n",
    "######\n",
    "learning_rate = 0.002\n",
    "total_epoch = 100\n",
    "\n",
    "sess = tf.Session()\n",
    "sess.run(tf.global_variables_initializer())\n",
    "\n",
    "dots = []\n",
    "for epoch in range(total_epoch):\n",
    "    _, loss = sess.run([optimizer, cost],\n",
    "                       feed_dict={X: input_batch, Y: target_batch})\n",
    "\n",
    "    #print('Epoch:', '%04d' % (epoch + 1),\n",
    "    #      'cost =', '{:.6f}'.format(loss))\n",
    "    dots.append(loss)\n",
    "    \n",
    "print('최적화 완료!, cost = {:.2f} %'.format(loss*100))\n",
    "\n",
    "\n",
    "plt.title('Learning rate - cost loss')\n",
    "plt.plot(dots)\n",
    "plt.ylabel('Cost')\n",
    "plt.show()"
   ]
  },
  {
   "cell_type": "code",
   "execution_count": 12,
   "metadata": {},
   "outputs": [
    {
     "name": "stdout",
     "output_type": "stream",
     "text": [
      "\n",
      "=== 예측 결과 ===\n",
      "입력값: ['wor ', 'woo ', 'dee ', 'div ', 'col ', 'coo ', 'loa ', 'lov ', 'kis ', 'kin ', 'thi ', 'tha ', 'the ', 'tos ', 'tan ', 'man ', 'mas ', 'mos ', 'mol ', 'mos ', 'tai ', 'tol ', 'tes ', 'ton ', 'tea ', 'bos ', 'bea ', 'boo ', 'bon ', 'bit ', 'bee ', 'cos ', 'dus ', 'dol ', 'dea ', 'pea ', 'pis ', 'pos ', 'pol ', 'pil ']\n",
      "예측값: ['word', 'wood', 'deep', 'dive', 'cold', 'cool', 'load', 'love', 'kiss', 'kind', 'this', 'that', 'then', 'toss', 'tang', 'many', 'mass', 'moss', 'mole', 'most', 'tail', 'toll', 'test', 'tone', 'tear', 'boss', 'bear', 'boot', 'bone', 'bits', 'beer', 'cost', 'dust', 'doll', 'dead', 'pear', 'pist', 'post', 'poll', 'pill']\n",
      "정확도: 1.0\n"
     ]
    }
   ],
   "source": [
    "#########\n",
    "# 결과 확인\n",
    "######\n",
    "# 레이블값이 정수이므로 예측값도 정수로 변경해줍니다.\n",
    "# one-hot 인코딩이 아니므로 입력값을 그대로 비교합니다.\n",
    "\n",
    "prediction = tf.cast(tf.argmax(model, 1), tf.int32)\n",
    "prediction_check = tf.equal(prediction, Y)\n",
    "accuracy = tf.reduce_mean(tf.cast(prediction_check, tf.float32))\n",
    "\n",
    "input_batch, target_batch = make_batch(seq_data)\n",
    "\n",
    "predict, accuracy_val = sess.run([prediction, accuracy],\n",
    "                                 feed_dict={X: input_batch, Y: target_batch})\n",
    "\n",
    "predict_words = []\n",
    "\n",
    "for idx, val in enumerate(seq_data):\n",
    "    last_char = chars[predict[idx]]\n",
    "    predict_words.append(val[:3] + last_char)\n",
    "\n",
    "print('\\n=== 예측 결과 ===')\n",
    "print('입력값:', [w[:3] + ' ' for w in seq_data])\n",
    "print('예측값:', predict_words)\n",
    "print('정확도:', accuracy_val)\n"
   ]
  }
 ],
 "metadata": {
  "kernelspec": {
   "display_name": "Python 3",
   "language": "python",
   "name": "python3"
  },
  "language_info": {
   "codemirror_mode": {
    "name": "ipython",
    "version": 3
   },
   "file_extension": ".py",
   "mimetype": "text/x-python",
   "name": "python",
   "nbconvert_exporter": "python",
   "pygments_lexer": "ipython3",
   "version": "3.6.5"
  }
 },
 "nbformat": 4,
 "nbformat_minor": 2
}
