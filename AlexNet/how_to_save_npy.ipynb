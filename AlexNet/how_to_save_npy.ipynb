{
 "cells": [
  {
   "cell_type": "code",
   "execution_count": 10,
   "metadata": {},
   "outputs": [
    {
     "name": "stdout",
     "output_type": "stream",
     "text": [
      "op_name :  fc6\n",
      "op_name :  fc7\n",
      "op_name :  fc8\n",
      "op_name :  conv3\n",
      "op_name :  conv2\n",
      "op_name :  conv1\n",
      "op_name :  conv5\n",
      "op_name :  conv4\n"
     ]
    }
   ],
   "source": [
    "import tensorflow as tf\n",
    "import numpy as np\n",
    "\n",
    "WEIGHTS_PATH = 'test.npy'\n",
    "save_npy = 't.npy'\n",
    "\n",
    "# Load the weights into memory\n",
    "weights_dict = np.load(WEIGHTS_PATH, encoding='bytes').item()\n",
    "\n",
    "# Loop over all layer names stored in the weights dict\n",
    "for op_name in weights_dict:\n",
    "    print(\"op_name : \", op_name)\n",
    "\n",
    "    #np.save('t.npy', op_name)\n",
    "    #for data in weights_dict[op_name]:\n",
    "    #    np.save('t.npy', data)\n",
    "\n",
    "np.save(save_npy, weights_dict)"
   ]
  },
  {
   "cell_type": "code",
   "execution_count": 12,
   "metadata": {},
   "outputs": [
    {
     "name": "stdout",
     "output_type": "stream",
     "text": [
      "op_name :  fc6\n",
      "op_name :  fc7\n",
      "op_name :  fc8\n",
      "op_name :  conv3\n",
      "op_name :  conv2\n",
      "op_name :  conv1\n",
      "op_name :  conv5\n",
      "op_name :  conv4\n"
     ]
    }
   ],
   "source": [
    "w = np.load(save_npy, encoding='bytes').item()\n",
    "for op in w:\n",
    "    print(\"op_name : \", op)\n",
    "\n",
    "np.save('t2.npy', w)"
   ]
  }
 ],
 "metadata": {
  "kernelspec": {
   "display_name": "Python 3",
   "language": "python",
   "name": "python3"
  },
  "language_info": {
   "codemirror_mode": {
    "name": "ipython",
    "version": 3
   },
   "file_extension": ".py",
   "mimetype": "text/x-python",
   "name": "python",
   "nbconvert_exporter": "python",
   "pygments_lexer": "ipython3",
   "version": "3.6.4"
  }
 },
 "nbformat": 4,
 "nbformat_minor": 2
}
