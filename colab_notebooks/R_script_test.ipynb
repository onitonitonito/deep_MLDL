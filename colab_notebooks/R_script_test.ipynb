{
 "cells": [
  {
   "cell_type": "markdown",
   "metadata": {},
   "source": [
    "<img src='https://www.rstudio.com/wp-content/uploads/2015/01/rstudiosticker.png' width=300 align=left />"
   ]
  },
  {
   "cell_type": "markdown",
   "metadata": {},
   "source": [
    "# This is R script for RNoteBook (IRkernel)\n",
    "> - Basic R test\n",
    "> - __RStudio__ 가 없어도, 웹 상에서 자유롭게 테스트 해볼수 있는 __RNoteBook__\n",
    "> - __CLI__ 로 즉시 실행해 볼 수 있는 __통계기능__ 과 __간편하고 강력한 그래픽, 챠트기능__"
   ]
  },
  {
   "cell_type": "code",
   "execution_count": 7,
   "metadata": {},
   "outputs": [
    {
     "data": {
      "text/html": [
       "<table>\n",
       "<thead><tr><th scope=col>X</th><th scope=col>OBS.</th><th scope=col>TOWN</th><th scope=col>TOWN.</th><th scope=col>TRACT</th><th scope=col>LON</th><th scope=col>LAT</th><th scope=col>MEDV</th><th scope=col>CMEDV</th><th scope=col>CRIM</th><th scope=col>...</th><th scope=col>CHAS</th><th scope=col>NOX</th><th scope=col>RM</th><th scope=col>AGE</th><th scope=col>DIS</th><th scope=col>RAD</th><th scope=col>TAX</th><th scope=col>PTRATIO</th><th scope=col>B</th><th scope=col>LSTAT</th></tr></thead>\n",
       "<tbody>\n",
       "\t<tr><td>0         </td><td>1         </td><td>Nahant    </td><td>0         </td><td>2011      </td><td>-70.9550  </td><td>42.2550   </td><td>24.0      </td><td>24.0      </td><td>0.00632   </td><td>...       </td><td>0         </td><td>0.538     </td><td>6.575     </td><td>65.2      </td><td>4.0900    </td><td>1         </td><td>296       </td><td>15.3      </td><td>396.90    </td><td>4.98      </td></tr>\n",
       "\t<tr><td>1         </td><td>2         </td><td>Swampscott</td><td>1         </td><td>2021      </td><td>-70.9500  </td><td>42.2875   </td><td>21.6      </td><td>21.6      </td><td>0.02731   </td><td>...       </td><td>0         </td><td>0.469     </td><td>6.421     </td><td>78.9      </td><td>4.9671    </td><td>2         </td><td>242       </td><td>17.8      </td><td>396.90    </td><td>9.14      </td></tr>\n",
       "\t<tr><td>2         </td><td>3         </td><td>Swampscott</td><td>1         </td><td>2022      </td><td>-70.9360  </td><td>42.2830   </td><td>34.7      </td><td>34.7      </td><td>0.02729   </td><td>...       </td><td>0         </td><td>0.469     </td><td>7.185     </td><td>61.1      </td><td>4.9671    </td><td>2         </td><td>242       </td><td>17.8      </td><td>392.83    </td><td>4.03      </td></tr>\n",
       "\t<tr><td>3         </td><td>4         </td><td>Marblehead</td><td>2         </td><td>2031      </td><td>-70.9280  </td><td>42.2930   </td><td>33.4      </td><td>33.4      </td><td>0.03237   </td><td>...       </td><td>0         </td><td>0.458     </td><td>6.998     </td><td>45.8      </td><td>6.0622    </td><td>3         </td><td>222       </td><td>18.7      </td><td>394.63    </td><td>2.94      </td></tr>\n",
       "\t<tr><td>4         </td><td>5         </td><td>Marblehead</td><td>2         </td><td>2032      </td><td>-70.9220  </td><td>42.2980   </td><td>36.2      </td><td>36.2      </td><td>0.06905   </td><td>...       </td><td>0         </td><td>0.458     </td><td>7.147     </td><td>54.2      </td><td>6.0622    </td><td>3         </td><td>222       </td><td>18.7      </td><td>396.90    </td><td>5.33      </td></tr>\n",
       "\t<tr><td>5         </td><td>6         </td><td>Marblehead</td><td>2         </td><td>2033      </td><td>-70.9165  </td><td>42.3040   </td><td>28.7      </td><td>28.7      </td><td>0.02985   </td><td>...       </td><td>0         </td><td>0.458     </td><td>6.430     </td><td>58.7      </td><td>6.0622    </td><td>3         </td><td>222       </td><td>18.7      </td><td>394.12    </td><td>5.21      </td></tr>\n",
       "</tbody>\n",
       "</table>\n"
      ],
      "text/latex": [
       "\\begin{tabular}{r|llllllllllllllllllllll}\n",
       " X & OBS. & TOWN & TOWN. & TRACT & LON & LAT & MEDV & CMEDV & CRIM & ... & CHAS & NOX & RM & AGE & DIS & RAD & TAX & PTRATIO & B & LSTAT\\\\\n",
       "\\hline\n",
       "\t 0          & 1          & Nahant     & 0          & 2011       & -70.9550   & 42.2550    & 24.0       & 24.0       & 0.00632    & ...        & 0          & 0.538      & 6.575      & 65.2       & 4.0900     & 1          & 296        & 15.3       & 396.90     & 4.98      \\\\\n",
       "\t 1          & 2          & Swampscott & 1          & 2021       & -70.9500   & 42.2875    & 21.6       & 21.6       & 0.02731    & ...        & 0          & 0.469      & 6.421      & 78.9       & 4.9671     & 2          & 242        & 17.8       & 396.90     & 9.14      \\\\\n",
       "\t 2          & 3          & Swampscott & 1          & 2022       & -70.9360   & 42.2830    & 34.7       & 34.7       & 0.02729    & ...        & 0          & 0.469      & 7.185      & 61.1       & 4.9671     & 2          & 242        & 17.8       & 392.83     & 4.03      \\\\\n",
       "\t 3          & 4          & Marblehead & 2          & 2031       & -70.9280   & 42.2930    & 33.4       & 33.4       & 0.03237    & ...        & 0          & 0.458      & 6.998      & 45.8       & 6.0622     & 3          & 222        & 18.7       & 394.63     & 2.94      \\\\\n",
       "\t 4          & 5          & Marblehead & 2          & 2032       & -70.9220   & 42.2980    & 36.2       & 36.2       & 0.06905    & ...        & 0          & 0.458      & 7.147      & 54.2       & 6.0622     & 3          & 222        & 18.7       & 396.90     & 5.33      \\\\\n",
       "\t 5          & 6          & Marblehead & 2          & 2033       & -70.9165   & 42.3040    & 28.7       & 28.7       & 0.02985    & ...        & 0          & 0.458      & 6.430      & 58.7       & 6.0622     & 3          & 222        & 18.7       & 394.12     & 5.21      \\\\\n",
       "\\end{tabular}\n"
      ],
      "text/markdown": [
       "\n",
       "X | OBS. | TOWN | TOWN. | TRACT | LON | LAT | MEDV | CMEDV | CRIM | ... | CHAS | NOX | RM | AGE | DIS | RAD | TAX | PTRATIO | B | LSTAT | \n",
       "|---|---|---|---|---|---|\n",
       "| 0          | 1          | Nahant     | 0          | 2011       | -70.9550   | 42.2550    | 24.0       | 24.0       | 0.00632    | ...        | 0          | 0.538      | 6.575      | 65.2       | 4.0900     | 1          | 296        | 15.3       | 396.90     | 4.98       | \n",
       "| 1          | 2          | Swampscott | 1          | 2021       | -70.9500   | 42.2875    | 21.6       | 21.6       | 0.02731    | ...        | 0          | 0.469      | 6.421      | 78.9       | 4.9671     | 2          | 242        | 17.8       | 396.90     | 9.14       | \n",
       "| 2          | 3          | Swampscott | 1          | 2022       | -70.9360   | 42.2830    | 34.7       | 34.7       | 0.02729    | ...        | 0          | 0.469      | 7.185      | 61.1       | 4.9671     | 2          | 242        | 17.8       | 392.83     | 4.03       | \n",
       "| 3          | 4          | Marblehead | 2          | 2031       | -70.9280   | 42.2930    | 33.4       | 33.4       | 0.03237    | ...        | 0          | 0.458      | 6.998      | 45.8       | 6.0622     | 3          | 222        | 18.7       | 394.63     | 2.94       | \n",
       "| 4          | 5          | Marblehead | 2          | 2032       | -70.9220   | 42.2980    | 36.2       | 36.2       | 0.06905    | ...        | 0          | 0.458      | 7.147      | 54.2       | 6.0622     | 3          | 222        | 18.7       | 396.90     | 5.33       | \n",
       "| 5          | 6          | Marblehead | 2          | 2033       | -70.9165   | 42.3040    | 28.7       | 28.7       | 0.02985    | ...        | 0          | 0.458      | 6.430      | 58.7       | 6.0622     | 3          | 222        | 18.7       | 394.12     | 5.21       | \n",
       "\n",
       "\n"
      ],
      "text/plain": [
       "  X OBS. TOWN       TOWN. TRACT LON      LAT     MEDV CMEDV CRIM    ... CHAS\n",
       "1 0 1    Nahant     0     2011  -70.9550 42.2550 24.0 24.0  0.00632 ... 0   \n",
       "2 1 2    Swampscott 1     2021  -70.9500 42.2875 21.6 21.6  0.02731 ... 0   \n",
       "3 2 3    Swampscott 1     2022  -70.9360 42.2830 34.7 34.7  0.02729 ... 0   \n",
       "4 3 4    Marblehead 2     2031  -70.9280 42.2930 33.4 33.4  0.03237 ... 0   \n",
       "5 4 5    Marblehead 2     2032  -70.9220 42.2980 36.2 36.2  0.06905 ... 0   \n",
       "6 5 6    Marblehead 2     2033  -70.9165 42.3040 28.7 28.7  0.02985 ... 0   \n",
       "  NOX   RM    AGE  DIS    RAD TAX PTRATIO B      LSTAT\n",
       "1 0.538 6.575 65.2 4.0900 1   296 15.3    396.90 4.98 \n",
       "2 0.469 6.421 78.9 4.9671 2   242 17.8    396.90 9.14 \n",
       "3 0.469 7.185 61.1 4.9671 2   242 17.8    392.83 4.03 \n",
       "4 0.458 6.998 45.8 6.0622 3   222 18.7    394.63 2.94 \n",
       "5 0.458 7.147 54.2 6.0622 3   222 18.7    396.90 5.33 \n",
       "6 0.458 6.430 58.7 6.0622 3   222 18.7    394.12 5.21 "
      ]
     },
     "metadata": {},
     "output_type": "display_data"
    },
    {
     "data": {
      "text/html": [
       "<table>\n",
       "<thead><tr><th></th><th scope=col>X</th><th scope=col>OBS.</th><th scope=col>TOWN</th><th scope=col>TOWN.</th><th scope=col>TRACT</th><th scope=col>LON</th><th scope=col>LAT</th><th scope=col>MEDV</th><th scope=col>CMEDV</th><th scope=col>CRIM</th><th scope=col>...</th><th scope=col>CHAS</th><th scope=col>NOX</th><th scope=col>RM</th><th scope=col>AGE</th><th scope=col>DIS</th><th scope=col>RAD</th><th scope=col>TAX</th><th scope=col>PTRATIO</th><th scope=col>B</th><th scope=col>LSTAT</th></tr></thead>\n",
       "<tbody>\n",
       "\t<tr><th scope=row>501</th><td>500     </td><td>501     </td><td>Revere  </td><td>90      </td><td>1708    </td><td>-70.9920</td><td>42.2380 </td><td>16.8    </td><td>16.8    </td><td>0.22438 </td><td>...     </td><td>0       </td><td>0.585   </td><td>6.027   </td><td>79.7    </td><td>2.4982  </td><td>6       </td><td>391     </td><td>19.2    </td><td>396.90  </td><td>14.33   </td></tr>\n",
       "\t<tr><th scope=row>502</th><td>501     </td><td>502     </td><td>Winthrop</td><td>91      </td><td>1801    </td><td>-70.9860</td><td>42.2312 </td><td>22.4    </td><td>22.4    </td><td>0.06263 </td><td>...     </td><td>0       </td><td>0.573   </td><td>6.593   </td><td>69.1    </td><td>2.4786  </td><td>1       </td><td>273     </td><td>21.0    </td><td>391.99  </td><td> 9.67   </td></tr>\n",
       "\t<tr><th scope=row>503</th><td>502     </td><td>503     </td><td>Winthrop</td><td>91      </td><td>1802    </td><td>-70.9910</td><td>42.2275 </td><td>20.6    </td><td>20.6    </td><td>0.04527 </td><td>...     </td><td>0       </td><td>0.573   </td><td>6.120   </td><td>76.7    </td><td>2.2875  </td><td>1       </td><td>273     </td><td>21.0    </td><td>396.90  </td><td> 9.08   </td></tr>\n",
       "\t<tr><th scope=row>504</th><td>503     </td><td>504     </td><td>Winthrop</td><td>91      </td><td>1803    </td><td>-70.9948</td><td>42.2260 </td><td>23.9    </td><td>23.9    </td><td>0.06076 </td><td>...     </td><td>0       </td><td>0.573   </td><td>6.976   </td><td>91.0    </td><td>2.1675  </td><td>1       </td><td>273     </td><td>21.0    </td><td>396.90  </td><td> 5.64   </td></tr>\n",
       "\t<tr><th scope=row>505</th><td>504     </td><td>505     </td><td>Winthrop</td><td>91      </td><td>1804    </td><td>-70.9875</td><td>42.2240 </td><td>22.0    </td><td>22.0    </td><td>0.10959 </td><td>...     </td><td>0       </td><td>0.573   </td><td>6.794   </td><td>89.3    </td><td>2.3889  </td><td>1       </td><td>273     </td><td>21.0    </td><td>393.45  </td><td> 6.48   </td></tr>\n",
       "\t<tr><th scope=row>506</th><td>505     </td><td>506     </td><td>Winthrop</td><td>91      </td><td>1805    </td><td>-70.9825</td><td>42.2210 </td><td>11.9    </td><td>19.0    </td><td>0.04741 </td><td>...     </td><td>0       </td><td>0.573   </td><td>6.030   </td><td>80.8    </td><td>2.5050  </td><td>1       </td><td>273     </td><td>21.0    </td><td>396.90  </td><td> 7.88   </td></tr>\n",
       "</tbody>\n",
       "</table>\n"
      ],
      "text/latex": [
       "\\begin{tabular}{r|llllllllllllllllllllll}\n",
       "  & X & OBS. & TOWN & TOWN. & TRACT & LON & LAT & MEDV & CMEDV & CRIM & ... & CHAS & NOX & RM & AGE & DIS & RAD & TAX & PTRATIO & B & LSTAT\\\\\n",
       "\\hline\n",
       "\t501 & 500      & 501      & Revere   & 90       & 1708     & -70.9920 & 42.2380  & 16.8     & 16.8     & 0.22438  & ...      & 0        & 0.585    & 6.027    & 79.7     & 2.4982   & 6        & 391      & 19.2     & 396.90   & 14.33   \\\\\n",
       "\t502 & 501      & 502      & Winthrop & 91       & 1801     & -70.9860 & 42.2312  & 22.4     & 22.4     & 0.06263  & ...      & 0        & 0.573    & 6.593    & 69.1     & 2.4786   & 1        & 273      & 21.0     & 391.99   &  9.67   \\\\\n",
       "\t503 & 502      & 503      & Winthrop & 91       & 1802     & -70.9910 & 42.2275  & 20.6     & 20.6     & 0.04527  & ...      & 0        & 0.573    & 6.120    & 76.7     & 2.2875   & 1        & 273      & 21.0     & 396.90   &  9.08   \\\\\n",
       "\t504 & 503      & 504      & Winthrop & 91       & 1803     & -70.9948 & 42.2260  & 23.9     & 23.9     & 0.06076  & ...      & 0        & 0.573    & 6.976    & 91.0     & 2.1675   & 1        & 273      & 21.0     & 396.90   &  5.64   \\\\\n",
       "\t505 & 504      & 505      & Winthrop & 91       & 1804     & -70.9875 & 42.2240  & 22.0     & 22.0     & 0.10959  & ...      & 0        & 0.573    & 6.794    & 89.3     & 2.3889   & 1        & 273      & 21.0     & 393.45   &  6.48   \\\\\n",
       "\t506 & 505      & 506      & Winthrop & 91       & 1805     & -70.9825 & 42.2210  & 11.9     & 19.0     & 0.04741  & ...      & 0        & 0.573    & 6.030    & 80.8     & 2.5050   & 1        & 273      & 21.0     & 396.90   &  7.88   \\\\\n",
       "\\end{tabular}\n"
      ],
      "text/markdown": [
       "\n",
       "| <!--/--> | X | OBS. | TOWN | TOWN. | TRACT | LON | LAT | MEDV | CMEDV | CRIM | ... | CHAS | NOX | RM | AGE | DIS | RAD | TAX | PTRATIO | B | LSTAT | \n",
       "|---|---|---|---|---|---|\n",
       "| 501 | 500      | 501      | Revere   | 90       | 1708     | -70.9920 | 42.2380  | 16.8     | 16.8     | 0.22438  | ...      | 0        | 0.585    | 6.027    | 79.7     | 2.4982   | 6        | 391      | 19.2     | 396.90   | 14.33    | \n",
       "| 502 | 501      | 502      | Winthrop | 91       | 1801     | -70.9860 | 42.2312  | 22.4     | 22.4     | 0.06263  | ...      | 0        | 0.573    | 6.593    | 69.1     | 2.4786   | 1        | 273      | 21.0     | 391.99   |  9.67    | \n",
       "| 503 | 502      | 503      | Winthrop | 91       | 1802     | -70.9910 | 42.2275  | 20.6     | 20.6     | 0.04527  | ...      | 0        | 0.573    | 6.120    | 76.7     | 2.2875   | 1        | 273      | 21.0     | 396.90   |  9.08    | \n",
       "| 504 | 503      | 504      | Winthrop | 91       | 1803     | -70.9948 | 42.2260  | 23.9     | 23.9     | 0.06076  | ...      | 0        | 0.573    | 6.976    | 91.0     | 2.1675   | 1        | 273      | 21.0     | 396.90   |  5.64    | \n",
       "| 505 | 504      | 505      | Winthrop | 91       | 1804     | -70.9875 | 42.2240  | 22.0     | 22.0     | 0.10959  | ...      | 0        | 0.573    | 6.794    | 89.3     | 2.3889   | 1        | 273      | 21.0     | 393.45   |  6.48    | \n",
       "| 506 | 505      | 506      | Winthrop | 91       | 1805     | -70.9825 | 42.2210  | 11.9     | 19.0     | 0.04741  | ...      | 0        | 0.573    | 6.030    | 80.8     | 2.5050   | 1        | 273      | 21.0     | 396.90   |  7.88    | \n",
       "\n",
       "\n"
      ],
      "text/plain": [
       "    X   OBS. TOWN     TOWN. TRACT LON      LAT     MEDV CMEDV CRIM    ... CHAS\n",
       "501 500 501  Revere   90    1708  -70.9920 42.2380 16.8 16.8  0.22438 ... 0   \n",
       "502 501 502  Winthrop 91    1801  -70.9860 42.2312 22.4 22.4  0.06263 ... 0   \n",
       "503 502 503  Winthrop 91    1802  -70.9910 42.2275 20.6 20.6  0.04527 ... 0   \n",
       "504 503 504  Winthrop 91    1803  -70.9948 42.2260 23.9 23.9  0.06076 ... 0   \n",
       "505 504 505  Winthrop 91    1804  -70.9875 42.2240 22.0 22.0  0.10959 ... 0   \n",
       "506 505 506  Winthrop 91    1805  -70.9825 42.2210 11.9 19.0  0.04741 ... 0   \n",
       "    NOX   RM    AGE  DIS    RAD TAX PTRATIO B      LSTAT\n",
       "501 0.585 6.027 79.7 2.4982 6   391 19.2    396.90 14.33\n",
       "502 0.573 6.593 69.1 2.4786 1   273 21.0    391.99  9.67\n",
       "503 0.573 6.120 76.7 2.2875 1   273 21.0    396.90  9.08\n",
       "504 0.573 6.976 91.0 2.1675 1   273 21.0    396.90  5.64\n",
       "505 0.573 6.794 89.3 2.3889 1   273 21.0    393.45  6.48\n",
       "506 0.573 6.030 80.8 2.5050 1   273 21.0    396.90  7.88"
      ]
     },
     "metadata": {},
     "output_type": "display_data"
    }
   ],
   "source": [
    "setwd('~/Github/deep_MLDL/_static/_made_static')\n",
    "boston <- read.csv('bostonc_corrected.csv')\n",
    "\n",
    "head(boston); tail(boston)"
   ]
  },
  {
   "cell_type": "markdown",
   "metadata": {},
   "source": [
    "# 1.0 함수의 정의"
   ]
  },
  {
   "cell_type": "code",
   "execution_count": 8,
   "metadata": {},
   "outputs": [],
   "source": [
    "show_phist <- function(y, x1, x2, data1)  {\n",
    "  par(mfrow=c(2,2))\n",
    "\n",
    "  plot( y ~ x1)\n",
    "  hist(x1)\n",
    "\n",
    "  plot( y ~ x2)\n",
    "  hist(x2)\n",
    "  par(mfrow=c(1,1))\n",
    "}\n"
   ]
  },
  {
   "cell_type": "markdown",
   "metadata": {},
   "source": [
    "# 2.0 간단한 요약과 히스토그램 "
   ]
  },
  {
   "cell_type": "code",
   "execution_count": 9,
   "metadata": {},
   "outputs": [
    {
     "data": {
      "text/plain": [
       "    Min.  1st Qu.   Median     Mean  3rd Qu.     Max. \n",
       " 0.00632  0.08249  0.26266  4.64889  7.20000 50.00000 "
      ]
     },
     "metadata": {},
     "output_type": "display_data"
    }
   ],
   "source": [
    "summary(boston$CRIM)"
   ]
  },
  {
   "cell_type": "code",
   "execution_count": 10,
   "metadata": {},
   "outputs": [
    {
     "data": {
      "image/png": "[encoded data removed]",
      "text/plain": [
       "Plot with title \"Histogram of log(boston$INDUS)\""
      ]
     },
     "metadata": {},
     "output_type": "display_data"
    }
   ],
   "source": [
    "par(mfrow=c(2,2))\n",
    "hist(log(boston$CRIM))\n",
    "hist((boston$MEDV))\n",
    "hist(log(boston$CHAS))\n",
    "hist(log(boston$INDUS))"
   ]
  },
  {
   "cell_type": "markdown",
   "metadata": {},
   "source": [
    "# 3.0 정의 된 함수 실행"
   ]
  },
  {
   "cell_type": "code",
   "execution_count": 11,
   "metadata": {},
   "outputs": [
    {
     "data": {
      "image/png": "[encoded data removed]",
      "text/plain": [
       "Plot with title \"Histogram of x2\""
      ]
     },
     "metadata": {},
     "output_type": "display_data"
    }
   ],
   "source": [
    "y <- boston$MEDV\n",
    "x1 <- boston$INDUS\n",
    "x2 <- boston$CRIM\n",
    "\n",
    "show_phist((y), log(x1), log(x2), boston)"
   ]
  },
  {
   "cell_type": "markdown",
   "metadata": {},
   "source": [
    "<img src='../_static/image/mnist_gan_image/001.png' width=700 align=left>\n",
    "<img src='../_static/image/mnist_gan_image/010.png' width=700 align=left>\n",
    "<img src='../_static/image/mnist_gan_image/020.png' width=700 align=left>\n",
    "<img src='../_static/image/mnist_gan_image/030.png' width=700 align=left>\n",
    "<img src='../_static/image/mnist_gan_image/040.png' width=700 align=left>\n",
    "<img src='../_static/image/mnist_gan_image/050.png' width=700 align=left>\n",
    "<img src='../_static/image/mnist_gan_image/060.png' width=700 align=left>\n",
    "<img src='../_static/image/mnist_gan_image/070.png' width=700 align=left>\n",
    "<img src='../_static/image/mnist_gan_image/080.png' width=700 align=left>\n",
    "<img src='../_static/image/mnist_gan_image/090.png' width=700 align=left>\n",
    "<img src='../_static/image/mnist_gan_image/100.png' width=700 align=left>\n"
   ]
  }
 ],
 "metadata": {
  "kernelspec": {
   "display_name": "R",
   "language": "R",
   "name": "ir"
  },
  "language_info": {
   "codemirror_mode": "r",
   "file_extension": ".r",
   "mimetype": "text/x-r-source",
   "name": "R",
   "pygments_lexer": "r",
   "version": "3.4.3"
  }
 },
 "nbformat": 4,
 "nbformat_minor": 2
}
